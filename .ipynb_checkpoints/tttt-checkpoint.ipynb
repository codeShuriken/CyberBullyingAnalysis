{
 "cells": [
  {
   "cell_type": "code",
   "execution_count": 21,
   "metadata": {},
   "outputs": [
    {
     "name": "stdout",
     "output_type": "stream",
     "text": [
      "3\n",
      "[('a', 'b'), ('a', 'c'), ('a', 'd'), ('c', 'a')]\n",
      "9\n",
      "[('a', 'b'), ('a', 'c'), ('a', 'd'), ('c', 'a'), ('f', 'u')]\n",
      "{'weight': 10}\n",
      "Name: \n",
      "Type: DiGraph\n",
      "Number of nodes: 6\n",
      "Number of edges: 5\n",
      "Average in degree:   0.8333\n",
      "Average out degree:   0.8333\n",
      "4\n"
     ]
    },
    {
     "data": {
      "text/plain": [
       "['b', 'c', 'd']"
      ]
     },
     "execution_count": 21,
     "metadata": {},
     "output_type": "execute_result"
    }
   ],
   "source": [
    "import networkx as nx\n",
    "\n",
    "G = nx.DiGraph()\n",
    "G.add_edge('a','b',weight=7)\n",
    "G.add_edge('c','a',weight=7)\n",
    "G.add_edge('a','c',weight=7)\n",
    "G.add_edge('a','d',weight=7)\n",
    "[n for n in G.neighbors('a')]\n",
    "print(len(G.edges('a')))\n",
    "\n",
    "def addEdge(a, b, G):\n",
    "    if G.has_edge(a, b):\n",
    "        G[a][b]['weight'] += 1\n",
    "    else:\n",
    "        G.add_edge(a, b, weight=1)\n",
    "    return G\n",
    "    \n",
    "print(G.edges)\n",
    "Gs= []\n",
    "for i in range(10):\n",
    "    G = addEdge('f', 'u', G)\n",
    "    if i == 0:\n",
    "        j = 0\n",
    "    else: \n",
    "        j = i\n",
    "print(j)\n",
    "print(G.edges)\n",
    "print(G['f']['u'])\n",
    "print(nx.info(G))\n",
    "d = dict(G.degree())\n",
    "print(max(d.values()))\n",
    "G.edges('a')\n",
    "#list(G.neighbors('a'))"
   ]
  },
  {
   "cell_type": "code",
   "execution_count": null,
   "metadata": {},
   "outputs": [],
   "source": []
  }
 ],
 "metadata": {
  "kernelspec": {
   "display_name": "Python 3",
   "language": "python",
   "name": "python3"
  },
  "language_info": {
   "codemirror_mode": {
    "name": "ipython",
    "version": 3
   },
   "file_extension": ".py",
   "mimetype": "text/x-python",
   "name": "python",
   "nbconvert_exporter": "python",
   "pygments_lexer": "ipython3",
   "version": "3.6.2"
  }
 },
 "nbformat": 4,
 "nbformat_minor": 2
}
